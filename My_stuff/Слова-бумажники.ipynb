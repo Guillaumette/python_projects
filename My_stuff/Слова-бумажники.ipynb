{
 "cells": [
  {
   "cell_type": "code",
   "execution_count": 33,
   "metadata": {},
   "outputs": [
    {
     "name": "stdout",
     "output_type": "stream",
     "text": [
      "велосипедагог, Анкаракатица, онанизменный\n"
     ]
    }
   ],
   "source": [
    "lst1 = ['велосипед', 'Анкара', 'онанизм']\n",
    "lst2 = ['каракатица', 'низменный', 'педагог']\n",
    "lst3 = []\n",
    "\n",
    "for i in range(len(lst1)):\n",
    "    for j in range(len(lst2)):\n",
    "        if lst1[i][-4:] == lst2[j][:4]:\n",
    "            lst3.append(lst1[i][:-4] + lst2[j])\n",
    "        elif lst1[i][-3:] == lst2[j][:3]:\n",
    "            lst3.append(lst1[i][:-3] + lst2[j])\n",
    "\n",
    "print(', '.join(lst3))"
   ]
  },
  {
   "cell_type": "code",
   "execution_count": 37,
   "metadata": {},
   "outputs": [
    {
     "name": "stdout",
     "output_type": "stream",
     "text": [
      "супругость, металлиственница, велосипедагог, Анкаракатица, онанизменный\n"
     ]
    }
   ],
   "source": [
    "# создаем списки слов\n",
    "lst1 = ['велосипед', 'Анкара', 'онанизм', 'супруг', 'металл'] \n",
    "lst2 = ['каракатица', 'низменный', 'педагог', 'лиственница', 'гость']\n",
    "lst3 = [] # создаем пустой список, куда будем складывать новые слова\n",
    "\n",
    "for count_letter in range(6): # count_letter считает совпадающее кол-во букв и проходится по всем словам обоих списков\n",
    "    for i in range(len(lst1)): # проходимся по словам первого списка\n",
    "        for j in range(len(lst2)): # проходимся по словам второго списка\n",
    "            # если определенное кол-во букв в пределах 6 в слове из первого списка с конца совпадает с тем же кол-вом букв\n",
    "            # в слове из второго списка с его начала,\n",
    "            # то добавляем это слово в третий список, срезая так, чтобы повторяющийся элемент был представлен лишь единожды\n",
    "            if lst1[i][-count_letter:] == lst2[j][:count_letter]:\n",
    "                lst3.append(lst1[i][:-count_letter] + lst2[j])\n",
    "\n",
    "print(', '.join(lst3))"
   ]
  },
  {
   "cell_type": "code",
   "execution_count": null,
   "metadata": {},
   "outputs": [],
   "source": []
  }
 ],
 "metadata": {
  "kernelspec": {
   "display_name": "Python 3",
   "language": "python",
   "name": "python3"
  },
  "language_info": {
   "codemirror_mode": {
    "name": "ipython",
    "version": 3
   },
   "file_extension": ".py",
   "mimetype": "text/x-python",
   "name": "python",
   "nbconvert_exporter": "python",
   "pygments_lexer": "ipython3",
   "version": "3.8.3"
  }
 },
 "nbformat": 4,
 "nbformat_minor": 4
}
