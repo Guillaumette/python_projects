{
 "cells": [
  {
   "cell_type": "markdown",
   "metadata": {},
   "source": [
    "<b> Задача 1: Напишите аннотацию для функции lower_join(). Логика работы функции описана в docstring <b>"
   ]
  },
  {
   "cell_type": "code",
   "execution_count": 1,
   "metadata": {},
   "outputs": [
    {
     "name": "stdout",
     "output_type": "stream",
     "text": [
      "{'seq': typing.Sequence[str], 'return': <class 'str'>}\n"
     ]
    }
   ],
   "source": [
    "from typing import Sequence\n",
    "\n",
    "def lower_join(seq: Sequence[str]) -> str:\n",
    "    \"\"\"Принимает на вход последовательность и создаёт из неё  \n",
    "    строку в нижнем регистре.\"\"\"\n",
    "    return ''.join(seq).lower()\n",
    "print(lower_join.__annotations__)"
   ]
  },
  {
   "cell_type": "markdown",
   "metadata": {},
   "source": [
    "<b> Задача 2: Напишите аннотацию для функции series_sum(). Логика работы функции описана в docstring. <b>"
   ]
  },
  {
   "cell_type": "code",
   "execution_count": 2,
   "metadata": {},
   "outputs": [
    {
     "name": "stdout",
     "output_type": "stream",
     "text": [
      "{'incoming': typing.List[typing.Union[str, float]], 'return': <class 'str'>}\n"
     ]
    }
   ],
   "source": [
    "from typing import List, Union\n",
    "\n",
    "def series_sum(incoming: List[Union[str, float]]) -> str:\n",
    "    \"\"\"Принимает на вход список из строк и чисел с плавающей точкой, приводит его элементы к строкам и конкатенирует их.\n",
    "    \"\"\"\n",
    "    result = ''\n",
    "    for i in incoming:\n",
    "        result += str(i)\n",
    "    return result\n",
    "print(series_sum.__annotations__)"
   ]
  },
  {
   "cell_type": "markdown",
   "metadata": {},
   "source": [
    "<b> Задача 3: Напишите аннотацию для всех функций. Логика работы функции add() описана в docstring. <b>"
   ]
  },
  {
   "cell_type": "code",
   "execution_count": 3,
   "metadata": {},
   "outputs": [
    {
     "name": "stdout",
     "output_type": "stream",
     "text": [
      "{'number': <class 'float'>, 'callback': typing.Callable[[float], float], 'return': <class 'float'>}\n"
     ]
    }
   ],
   "source": [
    "from typing import Callable, Any\n",
    "\n",
    "\n",
    "def add(number: float, callback: Callable[[float], float]) -> float:\n",
    "    \"\"\"Производит арифметические действия с числами.\n",
    "    Принимает число и функцию, выполняющую арифметическое действие.\n",
    "    \"\"\"    \n",
    "    return callback(number)\n",
    "\n",
    "\n",
    "def adder20(number: float) -> float:\n",
    "    \"\"\"Добавляет к аргументу 20.\"\"\"\n",
    "    return number + 20\n",
    "\n",
    "\n",
    "def multiplier2(number: float) -> float:\n",
    "    \"\"\"Умножает аргумент на 2.\"\"\"\n",
    "    return number * 2\n",
    "print(add.__annotations__)"
   ]
  }
 ],
 "metadata": {
  "kernelspec": {
   "display_name": "Python 3",
   "language": "python",
   "name": "python3"
  },
  "language_info": {
   "codemirror_mode": {
    "name": "ipython",
    "version": 3
   },
   "file_extension": ".py",
   "mimetype": "text/x-python",
   "name": "python",
   "nbconvert_exporter": "python",
   "pygments_lexer": "ipython3",
   "version": "3.8.3"
  }
 },
 "nbformat": 4,
 "nbformat_minor": 4
}
