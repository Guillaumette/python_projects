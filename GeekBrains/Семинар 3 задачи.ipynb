{
 "cells": [
  {
   "cell_type": "markdown",
   "metadata": {},
   "source": [
    "Посчитать количество положительных чисел в произвольно заданном массиве"
   ]
  },
  {
   "cell_type": "code",
   "execution_count": 4,
   "metadata": {},
   "outputs": [
    {
     "name": "stdout",
     "output_type": "stream",
     "text": [
      "5\n"
     ]
    }
   ],
   "source": [
    "lst = [-2, 8, 14, -34, -9, 7, 7, 4]\n",
    "count = 0\n",
    "size = len(lst)\n",
    "for i in range(size):\n",
    "    if lst[i] > 0:\n",
    "        count += 1\n",
    "\n",
    "print(count)"
   ]
  },
  {
   "cell_type": "markdown",
   "metadata": {},
   "source": [
    "Перенести максимум в правый край массива"
   ]
  },
  {
   "cell_type": "code",
   "execution_count": 6,
   "metadata": {},
   "outputs": [
    {
     "name": "stdout",
     "output_type": "stream",
     "text": [
      "[2, 5, 13, 6, 4, 90]\n"
     ]
    }
   ],
   "source": [
    "numbers = [2, 5, 13, 6, 90, 4]\n",
    "size = 6\n",
    "index = 0\n",
    "max_idx = 0\n",
    "max = numbers[max_idx]\n",
    "\n",
    "while index < size:\n",
    "    if numbers[index] > max:\n",
    "        max_idx = index\n",
    "        max = numbers[index]\n",
    "    index = index + 1\n",
    "\n",
    "numbers[max_idx] = numbers[size - 1]\n",
    "numbers[size - 1] = max\n",
    "\n",
    "print(numbers)"
   ]
  }
 ],
 "metadata": {
  "kernelspec": {
   "display_name": "Python 3",
   "language": "python",
   "name": "python3"
  },
  "language_info": {
   "codemirror_mode": {
    "name": "ipython",
    "version": 3
   },
   "file_extension": ".py",
   "mimetype": "text/x-python",
   "name": "python",
   "nbconvert_exporter": "python",
   "pygments_lexer": "ipython3",
   "version": "3.8.3"
  }
 },
 "nbformat": 4,
 "nbformat_minor": 4
}
