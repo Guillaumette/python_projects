{
 "cells": [
  {
   "cell_type": "markdown",
   "metadata": {},
   "source": [
    "Найти индексы минимального и максимального значения массивов."
   ]
  },
  {
   "cell_type": "code",
   "execution_count": 3,
   "metadata": {},
   "outputs": [
    {
     "name": "stdout",
     "output_type": "stream",
     "text": [
      "3 6\n"
     ]
    }
   ],
   "source": [
    "lst = [9, 7, 18, 95, 78, 32, 1]\n",
    "maxim = lst[0]\n",
    "minim = lst[0]\n",
    "index_max = 0\n",
    "index_min = 0\n",
    "for i in range(len(lst)):\n",
    "    if maxim < lst[i]:\n",
    "        maxim = lst[i]\n",
    "        index_max = i\n",
    "    elif minim > lst[i]:\n",
    "        minim = lst[i]\n",
    "        index_min = i\n",
    "\n",
    "print(index_max, index_min)"
   ]
  },
  {
   "cell_type": "markdown",
   "metadata": {},
   "source": [
    "Перевернуть массив и записать в обратном порядке."
   ]
  },
  {
   "cell_type": "code",
   "execution_count": 4,
   "metadata": {},
   "outputs": [
    {
     "name": "stdout",
     "output_type": "stream",
     "text": [
      "[1, 32, 78, 95, 18, 7, 9]\n"
     ]
    }
   ],
   "source": [
    "lst = [9, 7, 18, 95, 78, 32, 1]\n",
    "new_list = []\n",
    "\n",
    "index = len(lst) - 1\n",
    "\n",
    "while index >= 0:\n",
    "    item = lst[index]\n",
    "    new_list.append(item)\n",
    "\n",
    "    index -= 1\n",
    "\n",
    "print(new_list)"
   ]
  },
  {
   "cell_type": "markdown",
   "metadata": {},
   "source": [
    "Найти сумму элементов массива, лежащих между максимальным и минимальным по значению элементами (по индексу)"
   ]
  },
  {
   "cell_type": "code",
   "execution_count": 5,
   "metadata": {},
   "outputs": [
    {
     "name": "stdout",
     "output_type": "stream",
     "text": [
      "7\n"
     ]
    }
   ],
   "source": [
    "lst = [2, 6, 4, 3, 1, 5]\n",
    "maxim = lst[0]\n",
    "minim = lst[0]\n",
    "summa = 0\n",
    "index_max = 0\n",
    "index_min = 0\n",
    "for i in range(len(lst)):\n",
    "    if maxim < lst[i]:\n",
    "        maxim = lst[i]\n",
    "        index_max = i\n",
    "    elif minim > lst[i]:\n",
    "        minim = lst[i]\n",
    "        index_min = i\n",
    "        \n",
    "for i in range(len(lst)):\n",
    "    if i > index_max and i < index_min or i < index_max and i > index_min:\n",
    "        summa += lst[i]\n",
    "\n",
    "print(summa)"
   ]
  },
  {
   "cell_type": "markdown",
   "metadata": {},
   "source": [
    "Найти сумму элементов массива, лежащих между максимальным и минимальным по значению элементами (по значению)"
   ]
  },
  {
   "cell_type": "code",
   "execution_count": 6,
   "metadata": {},
   "outputs": [
    {
     "name": "stdout",
     "output_type": "stream",
     "text": [
      "14\n"
     ]
    }
   ],
   "source": [
    "lst = [2, 6, 4, 3, 1, 5]\n",
    "maxim = lst[0]\n",
    "minim = lst[0]\n",
    "summa = 0\n",
    "index_max = 0\n",
    "index_min = 0\n",
    "for i in range(len(lst)):\n",
    "    if maxim < lst[i]:\n",
    "        maxim = lst[i]\n",
    "    elif minim > lst[i]:\n",
    "        minim = lst[i]\n",
    "\n",
    "for i in range(len(lst)):\n",
    "    if lst[i] != maxim and lst[i] != minim:\n",
    "        summa += lst[i]\n",
    "\n",
    "print(summa)"
   ]
  },
  {
   "cell_type": "markdown",
   "metadata": {},
   "source": [
    "Найти среднее арифметическое среди всех элементов массива. "
   ]
  },
  {
   "cell_type": "code",
   "execution_count": 36,
   "metadata": {},
   "outputs": [
    {
     "name": "stdout",
     "output_type": "stream",
     "text": [
      "34.285714285714285\n"
     ]
    }
   ],
   "source": [
    "lst = [9, 7, 18, 95, 78, 32, 1]\n",
    "summa = 0\n",
    "for i in range(len(lst)):\n",
    "    summa += lst[i]\n",
    "\n",
    "average = summa / len(lst)\n",
    "print(average)"
   ]
  }
 ],
 "metadata": {
  "kernelspec": {
   "display_name": "Python 3",
   "language": "python",
   "name": "python3"
  },
  "language_info": {
   "codemirror_mode": {
    "name": "ipython",
    "version": 3
   },
   "file_extension": ".py",
   "mimetype": "text/x-python",
   "name": "python",
   "nbconvert_exporter": "python",
   "pygments_lexer": "ipython3",
   "version": "3.8.3"
  }
 },
 "nbformat": 4,
 "nbformat_minor": 4
}
