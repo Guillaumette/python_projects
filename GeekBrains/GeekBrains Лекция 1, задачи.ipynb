{
 "cells": [
  {
   "cell_type": "markdown",
   "metadata": {},
   "source": [
    "Найти максимум среди чисел."
   ]
  },
  {
   "cell_type": "code",
   "execution_count": null,
   "metadata": {},
   "outputs": [],
   "source": [
    "def find_max(x):\n",
    "    maximum = x[0]\n",
    "    for i in range(len(x)):\n",
    "        if x[i] > maximum:\n",
    "            maximum = x[i]\n",
    "    return maximum\n",
    "\n",
    "lst = [0, 14, 3, 8, 9]\n",
    "print(f'Максимум равен {find_max(lst)}') "
   ]
  },
  {
   "cell_type": "markdown",
   "metadata": {},
   "source": [
    "Два друга идут навстречу. У них есть собака, которая бегает между ними с момента их старта с постоянной скоростью. Сколько раз собака успеет перебежать от одного друга к другому, пока они не встретятся?"
   ]
  },
  {
   "cell_type": "code",
   "execution_count": 17,
   "metadata": {},
   "outputs": [
    {
     "name": "stdout",
     "output_type": "stream",
     "text": [
      "Изначальное расстояние: 10000\n",
      "Скорость первого друга: 1\n",
      "Скорость второго друга: 2\n",
      "Скорость собаки: 5\n",
      "Собака пробежит 12 раз.\n"
     ]
    }
   ],
   "source": [
    "DISTANCE = int(input('Изначальное расстояние: '))\n",
    "FIRST_FRIEND_SPEED = int(input('Скорость первого друга: '))\n",
    "SECOND_FRIEND_SPEED = int(input('Скорость второго друга: '))\n",
    "DOG_SPEED = int(input('Скорость собаки: '))\n",
    "\n",
    "def how_many_times(total_distance, speed_f1, speed_f2, dog_speed):\n",
    "    count = 0\n",
    "    friend = True # переменная-флаг, чтобы определять, от кого к кому бежит собака в данный момент\n",
    "    while total_distance > 10: # считаем точкой встречи\n",
    "        if friend == True:\n",
    "            time = total_distance / (speed_f2 + dog_speed)\n",
    "            friend = False\n",
    "        else:\n",
    "            time = total_distance / (speed_f1 + dog_speed)\n",
    "            friend = True\n",
    "        total_distance = total_distance - (speed_f1 + speed_f2) * time\n",
    "        count += 1\n",
    "    return count\n",
    "\n",
    "print(f'Собака пробежит {how_many_times(DISTANCE, FIRST_FRIEND_SPEED, SECOND_FRIEND_SPEED, DOG_SPEED)} раз.')"
   ]
  }
 ],
 "metadata": {
  "kernelspec": {
   "display_name": "Python 3",
   "language": "python",
   "name": "python3"
  },
  "language_info": {
   "codemirror_mode": {
    "name": "ipython",
    "version": 3
   },
   "file_extension": ".py",
   "mimetype": "text/x-python",
   "name": "python",
   "nbconvert_exporter": "python",
   "pygments_lexer": "ipython3",
   "version": "3.8.3"
  }
 },
 "nbformat": 4,
 "nbformat_minor": 4
}
