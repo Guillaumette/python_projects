{
 "cells": [
  {
   "cell_type": "markdown",
   "metadata": {},
   "source": [
    "На столе 2021 конфета. Играют двое, делая ход друг после друга. Первый ход определяет жеребьевка. За один ход можно забрать не более, чем 28 конфет. Все конфеты оппонента достаются сделавшему последний ход. Сколько конфет должен взять первый игрок, чтобы победить? Сколько ходов нужно сделать первому игроку, чтобы победить?"
   ]
  },
  {
   "cell_type": "code",
   "execution_count": 39,
   "metadata": {},
   "outputs": [
    {
     "name": "stdout",
     "output_type": "stream",
     "text": [
      "Игроку необходимо взять 20 конфет за первый ход, всего 70 ходов.\n"
     ]
    }
   ],
   "source": [
    "CONTROLLED_SWEETS = 29\n",
    "\n",
    "def how_many_sweets(total_sweets):\n",
    "    return total_sweets % CONTROLLED_SWEETS\n",
    "\n",
    "def how_many_steps(total_sweets):\n",
    "    pl_steps_qty = total_sweets // CONTROLLED_SWEETS + 1 \n",
    "    return pl_steps_qty\n",
    "swt = 2021\n",
    "print(f'Игроку необходимо взять {how_many_sweets(swt)} конфет за первый ход, всего {how_many_steps(swt)} ходов.')"
   ]
  },
  {
   "cell_type": "markdown",
   "metadata": {},
   "source": [
    "На столе 2021 конфета. Играют двое, делая ход друг после друга. Первый ход определяет жеребьевка. За один ход можно забрать не более, чем 28 конфет. Все конфеты оппонента достаются сделавшему предпоследний ход. Сколько конфет нужно взять первому игроку, чтобы победить? Сколько ходов нужно сделать первому игроку, чтобы победить?"
   ]
  },
  {
   "cell_type": "code",
   "execution_count": 5,
   "metadata": {},
   "outputs": [
    {
     "name": "stdout",
     "output_type": "stream",
     "text": [
      "Всего конфет: 32\n",
      "Максимальное взятие за ход: 10\n",
      "Игроку необходиму взять 9 конфет за первый ход, всего 3 ходов.\n"
     ]
    }
   ],
   "source": [
    "SWEETS = int(input('Всего конфет: '))\n",
    "LIMIT_ONE_TURN = int(input('Максимальное взятие за ход: '))\n",
    "CONTROLLED_SWEETS = LIMIT_ONE_TURN + 1\n",
    "\n",
    "def how_many_sweets(total_sweets):\n",
    "    return total_sweets % CONTROLLED_SWEETS - 1\n",
    "\n",
    "def how_many_steps(total_sweets, how_many_sweets):\n",
    "    return round((total_sweets - how_many_sweets) // CONTROLLED_SWEETS + 1)\n",
    "\n",
    "sweets_qty = how_many_sweets(SWEETS)\n",
    "print(f'Игроку необходиму взять {how_many_sweets(SWEETS)} конфет за первый ход, '\n",
    "      f'всего {how_many_steps(SWEETS, sweets_qty)} ходов.')"
   ]
  },
  {
   "cell_type": "code",
   "execution_count": null,
   "metadata": {},
   "outputs": [],
   "source": []
  }
 ],
 "metadata": {
  "kernelspec": {
   "display_name": "Python 3",
   "language": "python",
   "name": "python3"
  },
  "language_info": {
   "codemirror_mode": {
    "name": "ipython",
    "version": 3
   },
   "file_extension": ".py",
   "mimetype": "text/x-python",
   "name": "python",
   "nbconvert_exporter": "python",
   "pygments_lexer": "ipython3",
   "version": "3.8.3"
  }
 },
 "nbformat": 4,
 "nbformat_minor": 4
}
