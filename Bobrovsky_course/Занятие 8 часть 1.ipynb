{
 "cells": [
  {
   "cell_type": "markdown",
   "metadata": {},
   "source": [
    "8.1. <br> Напишите программу, которая вычисляет сумму первых N целых чисел, начиная с 1. Значение N вводится с клавиатуры в начале работы программы."
   ]
  },
  {
   "cell_type": "code",
   "execution_count": 4,
   "metadata": {},
   "outputs": [
    {
     "name": "stdout",
     "output_type": "stream",
     "text": [
      "5\n",
      "15\n"
     ]
    }
   ],
   "source": [
    "n = int(input()) # вводим переменную n\n",
    "summa = 0 # вводим переменную сумма, в которую будем записывать значения переменной по ходу выполнения цикла\n",
    "for i in range(1, n + 1): # указываем диапазон n + 1, чтобы число n тоже учитывалось\n",
    "    summa += i #прибавляем на каждой итерации цикла к сумме значение i, которое оно пошагово принимает в указанном диапазоне\n",
    "print(summa)"
   ]
  },
  {
   "cell_type": "markdown",
   "metadata": {},
   "source": [
    "8.2. <br> Напишите программу, которая вычисляет сумму квадратов первых N целых чисел, начиная с 1."
   ]
  },
  {
   "cell_type": "code",
   "execution_count": 7,
   "metadata": {},
   "outputs": [
    {
     "name": "stdout",
     "output_type": "stream",
     "text": [
      "2\n",
      "5\n"
     ]
    }
   ],
   "source": [
    "n = int(input()) # вводим переменную n\n",
    "sum_square = 0 # вводим переменную сумма квадратов, в которую будем записывать значения переменной по ходу выполнения цикла\n",
    "for i in range(1, n + 1): # указываем диапазон n + 1, чтобы число n тоже учитывалось\n",
    "    sum_square += i ** 2 # прибавляем к переменной сумма квадратов на каждой итерации i, возведенное в квадрат\n",
    "print(sum_square)"
   ]
  },
  {
   "cell_type": "markdown",
   "metadata": {},
   "source": [
    "8.3. <br> Напишите программу, которая вычисляет сумму целых чисел от N до M и выводит эту сумму и среднее значение. N и M вводятся с клавиатуры."
   ]
  },
  {
   "cell_type": "code",
   "execution_count": 8,
   "metadata": {},
   "outputs": [
    {
     "name": "stdout",
     "output_type": "stream",
     "text": [
      "1\n",
      "5\n",
      "Сумма равна: 15\n",
      "Среднее значение равно: 3.0\n"
     ]
    }
   ],
   "source": [
    "# вводим переменные\n",
    "n = int(input())\n",
    "m = int(input())\n",
    "summa = 0\n",
    "mean = 0\n",
    "for i in range(n, m + 1):\n",
    "    summa += i # находим, как и в первой задаче, сумму\n",
    "    mean = summa / m # делим сумму на количество слагаемых, которые равны m\n",
    "print('Сумма равна:', summa)\n",
    "print('Среднее значение равно:', mean)"
   ]
  },
  {
   "cell_type": "markdown",
   "metadata": {},
   "source": [
    "8.4. <br> Напишите программу, которая будет вычислять сумму только нечётных из первых N целых чисел, начиная с 0."
   ]
  },
  {
   "cell_type": "code",
   "execution_count": 14,
   "metadata": {},
   "outputs": [
    {
     "name": "stdout",
     "output_type": "stream",
     "text": [
      "5\n",
      "Сумма нечетных из первых N чисел равна: 9\n"
     ]
    }
   ],
   "source": [
    "n = int(input())\n",
    "summa = 0\n",
    "for i in range(0, n + 1):\n",
    "    if i % 2 != 0: # укажем условие, по которому цикл будет отбирать только нечетные числа\n",
    "        summa += i\n",
    "print('Сумма нечетных из первых N чисел равна:', summa)"
   ]
  },
  {
   "cell_type": "markdown",
   "metadata": {},
   "source": [
    "Рефлексия:\n",
    "7.10.: Не использовала \"Защиту от дурака\", то есть не указала условие временных рамок (от 1900 до 2100), не стала искать год рождения парня и выводить \"Парень подходит\" или \"Парень не подходит\". Решение ограничилось лишь написанием программы, которая считает сумму цифр года рождения. Эта часть написана верно."
   ]
  }
 ],
 "metadata": {
  "kernelspec": {
   "display_name": "Python 3",
   "language": "python",
   "name": "python3"
  },
  "language_info": {
   "codemirror_mode": {
    "name": "ipython",
    "version": 3
   },
   "file_extension": ".py",
   "mimetype": "text/x-python",
   "name": "python",
   "nbconvert_exporter": "python",
   "pygments_lexer": "ipython3",
   "version": "3.8.3"
  }
 },
 "nbformat": 4,
 "nbformat_minor": 4
}
