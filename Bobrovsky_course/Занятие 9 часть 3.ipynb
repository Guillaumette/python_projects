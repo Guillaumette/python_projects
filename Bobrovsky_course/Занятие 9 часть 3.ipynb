{
 "cells": [
  {
   "cell_type": "markdown",
   "metadata": {},
   "source": [
    "Рефлексия: <br>\n",
    "9.3.3: Допустила типичную ошибку: два почти идентичных цикла в зависимости от условия X < Y, не ввела переменную xy_min.<br>\n",
    "9.3.4: Вышла, как оказалось, за границы задачи, потому что задала минимальную и максимальную цены заранее, неверно интерпретировав не самую прозрачную формулировку, что максимальная цена задается заранее."
   ]
  },
  {
   "cell_type": "markdown",
   "metadata": {
    "id": "kKo6oEkW5Bee"
   },
   "source": [
    "9.3.5. Вы купили в трамвае билет (шестизначное целое число, начинается не с нуля), и теперь решаете, надо ли его съесть. Чтобы понять, счастливый ли билет, проверьте, равна ли сумма первых трёх цифр числа сумме трёх последних цифр. Например, число 124007 счастливое."
   ]
  },
  {
   "cell_type": "code",
   "execution_count": 2,
   "metadata": {
    "colab": {
     "base_uri": "https://localhost:8080/"
    },
    "id": "CCnZ-g_z4lPj",
    "outputId": "5164e5b5-5005-41d9-b103-2d95087b1ac6"
   },
   "outputs": [
    {
     "name": "stdout",
     "output_type": "stream",
     "text": [
      "123321\n",
      "Билет счастливый, ешь!\n"
     ]
    }
   ],
   "source": [
    "n = int(input()) # на вход подается шестизначное число\n",
    "first3 = n // 100000 + ((n // 10000) % 10) + ((n // 1000) % 10) # отделяем остатки в виде первых трех цифр числа и складываем их\n",
    "second3 = ((n // 100) % 10) + ((n % 100) // 10) + ((n % 100) % 10) # отделяем остатки в виде вторых трех цифр числа и также их складываем\n",
    "if n // 100000 == 0: # прописываем условие, чтобы число не начиналось с нуля\n",
    "  print(\"Введено некорректное число\")\n",
    "elif first3 == second3:\n",
    "  print(\"Билет счастливый, ешь!\")\n",
    "else:\n",
    "  print('Не еш подумой!')"
   ]
  },
  {
   "cell_type": "markdown",
   "metadata": {
    "id": "xh_15HOHB9GR"
   },
   "source": [
    "9.3.6. Школьник Вася взломал систему электронного дневника и получил доступ к своим оценкам. Однако оценки оказались зашифрованными. Если число чётное, это четвёрка. Если число нацело делится на 5, это пятёрка, если нацело делится на 3, это тройка, а если нацело делится на 13, это двойка.\n",
    "Введите первым числом количество оценок в дневнике, и далее сами оценки. Вам надо подсчитать количество оценок каждого типа.\n",
    "\n",
    "Например: 5 4 25 9 91 8\n",
    "У Васи две четвёрки, одна пятёрка, одна двойка, и одна тройка."
   ]
  },
  {
   "cell_type": "code",
   "execution_count": 22,
   "metadata": {
    "colab": {
     "base_uri": "https://localhost:8080/"
    },
    "id": "-5iHavsB5bgk",
    "outputId": "6acaa35c-6aee-4b3f-88ca-03e47472631e"
   },
   "outputs": [
    {
     "name": "stdout",
     "output_type": "stream",
     "text": [
      "Количество оценок: 5\n",
      "Оценка: 16\n",
      "Оценка: 15\n",
      "Оценка: 12\n",
      "Оценка: 9\n",
      "Оценка: 39\n",
      "У Васи 2 четверок 1 пятерок 0 двоек и 2 троек\n"
     ]
    }
   ],
   "source": [
    "quan = int(input(\"Количество оценок: \"))\n",
    "count5 = 0\n",
    "count4 = 0\n",
    "count3 = 0\n",
    "count2 = 0\n",
    "for mark in range(quan):\n",
    "  mark = int(input(\"Оценка: \"))\n",
    "  if mark % 2 == 0:\n",
    "    count4 += 1\n",
    "  elif mark % 5 == 0:\n",
    "    count5 += 1\n",
    "  elif mark % 3 == 0:\n",
    "    count3 +=1\n",
    "  elif mark % 13 == 0:\n",
    "    count2 += 1\n",
    "  else:\n",
    "    print('Некорректный шифр')\n",
    "print(\"У Васи\", count4, \"четверок\", count5, \"пятерок\", count2, \"двоек\", \"и\", count3, \"троек\")\n"
   ]
  },
  {
   "cell_type": "code",
   "execution_count": 8,
   "metadata": {},
   "outputs": [
    {
     "name": "stdout",
     "output_type": "stream",
     "text": [
      "2\n"
     ]
    }
   ],
   "source": [
    "print((124007 // 10000) % 10)"
   ]
  },
  {
   "cell_type": "code",
   "execution_count": null,
   "metadata": {},
   "outputs": [],
   "source": []
  }
 ],
 "metadata": {
  "colab": {
   "collapsed_sections": [],
   "name": "Занятие 9 часть 3.ipynb",
   "provenance": []
  },
  "kernelspec": {
   "display_name": "Python 3",
   "language": "python",
   "name": "python3"
  },
  "language_info": {
   "codemirror_mode": {
    "name": "ipython",
    "version": 3
   },
   "file_extension": ".py",
   "mimetype": "text/x-python",
   "name": "python",
   "nbconvert_exporter": "python",
   "pygments_lexer": "ipython3",
   "version": "3.8.3"
  }
 },
 "nbformat": 4,
 "nbformat_minor": 1
}
