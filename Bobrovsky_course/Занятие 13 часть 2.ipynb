{
 "cells": [
  {
   "cell_type": "markdown",
   "metadata": {},
   "source": [
    "Рефлексия: <br>\n",
    "13.4.1: Все верно. <br>\n",
    "13.4.2: Сделала версию для двумерного массива, а не трехмерного, так как не знала, что такое трехмерный и до сих пор смутно представляю."
   ]
  },
  {
   "cell_type": "markdown",
   "metadata": {},
   "source": [
    "13.4.3. Напишите программу, которая складывает две матрицы одинакового размера и печатает результат в виде таблички."
   ]
  },
  {
   "cell_type": "code",
   "execution_count": 15,
   "metadata": {},
   "outputs": [
    {
     "name": "stdout",
     "output_type": "stream",
     "text": [
      "Первая матрица: [[7, 3, 5], [2, 6, 5], [4, 1, 4]]\n",
      "Вторая матрица: [[8, 7, 1], [9, 6, 1], [8, 9, 8]]\n",
      "Результат сложения матриц:\n",
      "[15, 10, 6]\n",
      "[11, 12, 6]\n",
      "[12, 10, 12]\n"
     ]
    }
   ],
   "source": [
    "import random # импортируем библиотеку для работы со случайными числовыми значениями\n",
    "\n",
    "# формируем две матрицы одинакового размера\n",
    "lst1 = [] # первая\n",
    "lst2 = [] # вторая\n",
    "for i in range(3): \n",
    "    lst3 = [] # вложенный подсписок для первой основной\n",
    "    lst4 = [] # вложенный подсписок для второй основной\n",
    "    for j in range(3):\n",
    "        # заполняем их значениями\n",
    "        lst3.append(random.randint(1, 9))\n",
    "        lst4.append(random.randint(1, 9))\n",
    "    # и заполняем основные списки\n",
    "    lst1.append(lst3) \n",
    "    lst2.append(lst4)\n",
    "\n",
    "print('Первая матрица:', lst1)\n",
    "print('Вторая матрица:', lst2)\n",
    "\n",
    "result = [[0,0,0], \n",
    "[0,0,0], \n",
    "[0,0,0]] \n",
    "\n",
    "for i in range(len(lst1)): # подсписок\n",
    "    for j in range(len(lst1[0])): # элемент подсписка\n",
    "        result[i][j] = lst1[i][j] + lst2[i][j]\n",
    "\n",
    "print('Результат сложения матриц:')\n",
    "for r in result:\n",
    "    print(r)"
   ]
  },
  {
   "cell_type": "markdown",
   "metadata": {},
   "source": [
    "13.4.4. Напишите программу, которая рассчитывает сумму главной диагонали матрицы."
   ]
  },
  {
   "cell_type": "code",
   "execution_count": 10,
   "metadata": {},
   "outputs": [
    {
     "name": "stdout",
     "output_type": "stream",
     "text": [
      "Матрица: [[3, 7, 7], [6, 4, 1], [8, 1, 8]]\n",
      "Сумма главной диагонали равна 15\n"
     ]
    }
   ],
   "source": [
    "import random # импортируем библиотеку для работы со случайными числовыми значениями\n",
    "\n",
    "# формируем матрицу\n",
    "lst = []\n",
    "for i in range(3): \n",
    "    lst1 = [] # вложенный подсписок для матрицы\n",
    "    for j in range(3):\n",
    "        # заполняем ее значениями\n",
    "        lst1.append(random.randint(1, 9))\n",
    "    # и заполняем основную матрицу\n",
    "    lst.append(lst1)\n",
    "    \n",
    "print('Матрица:', lst)\n",
    "\n",
    "sum_diagonal = 0 #вводим переменную для счета суммы диагонали\n",
    "\n",
    "for i in range(len(lst)): # i для доступа к подсписку \n",
    "    for j in range(len(lst)): # j для доступа к элементу подсписка\n",
    "        if i == j: # если индексы элементов совпадают,\n",
    "            sum_diagonal += lst[i][j] # складываем эти элементы\n",
    "            \n",
    "print('Сумма главной диагонали равна', sum_diagonal)"
   ]
  }
 ],
 "metadata": {
  "kernelspec": {
   "display_name": "Python 3",
   "language": "python",
   "name": "python3"
  },
  "language_info": {
   "codemirror_mode": {
    "name": "ipython",
    "version": 3
   },
   "file_extension": ".py",
   "mimetype": "text/x-python",
   "name": "python",
   "nbconvert_exporter": "python",
   "pygments_lexer": "ipython3",
   "version": "3.8.3"
  }
 },
 "nbformat": 4,
 "nbformat_minor": 4
}
