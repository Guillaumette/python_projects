{
 "cells": [
  {
   "cell_type": "markdown",
   "metadata": {
    "id": "wYAImmT5bree"
   },
   "source": [
    "Рефлексия: <br>\n",
    "15.7.4: Ошибок, которые описаны ментором, я не допустила. Но у меня в решении используется 3 функции, а не две: сначала функция, которая считает количество слов в строке, потом функция, которая вычисляет строку с наименьшим числом слов в строке, а потом функция, коорая берет и возвращает именно мои конкретные 3 строки. Не знаю, считать ли это ошибкой, но, судя по всему, это лишний шаг. Также в моей программе ввода есть лишний шаг по преобразованию строк в списки (осталась привычка с предыдущих заданий на строки). В целом, мое решение рабочее, но не образец красоты и изящества. <br>\n",
    "15.7.5: Решено абсолютно верно. В принте не задавала готовый список, задала его раньше, аналогично с контрольным числом. <br>\n",
    "15.7.6: Поставила после return круглые скобки, что неверно, так нельзя делать в принципе, потому что программа может это не так понять. Не знала о команде pass, о ней не рассказывалось в теории, а гугление того, чего на курсе не было, было в самом начале заявлено, как недопустимое действие. Не считаю незнание pass своей недоработкой ;). Таким образом, в принципе верно, только не надо было скобки после return ставить. "
   ]
  },
  {
   "cell_type": "markdown",
   "metadata": {
    "id": "irpstWl_fHwy"
   },
   "source": [
    "16.4.1 Придумайте три примера некорректного кода, в котором перехватывается возникающее исключение. Укажите не универсальный Exception, а конкретный тип исключения (погуглите)."
   ]
  },
  {
   "cell_type": "code",
   "execution_count": 1,
   "metadata": {
    "colab": {
     "base_uri": "https://localhost:8080/"
    },
    "id": "SrgX9NURbn08",
    "outputId": "5f9a8663-ebcf-4b9b-9ead-6cc40377ef52"
   },
   "outputs": [
    {
     "name": "stdout",
     "output_type": "stream",
     "text": [
      "Error\n"
     ]
    }
   ],
   "source": [
    "# пример 1 - out of range\n",
    "try:\n",
    "    lst = [1, 4, 7, 8]\n",
    "    lst2 = []\n",
    "    for i in range(len(lst)):\n",
    "        lst2.append(lst[i] + lst[i + 1])\n",
    "except IndexError:\n",
    "    print('Error')"
   ]
  },
  {
   "cell_type": "code",
   "execution_count": 2,
   "metadata": {
    "colab": {
     "base_uri": "https://localhost:8080/"
    },
    "id": "DIeHwrj1hC91",
    "outputId": "f5fc1b48-c929-44ad-ec34-c357f68b7d05"
   },
   "outputs": [
    {
     "name": "stdout",
     "output_type": "stream",
     "text": [
      "Error\n"
     ]
    }
   ],
   "source": [
    "# пример 2 - name is not defined\n",
    "try:\n",
    "    def func(x,y):\n",
    "        if x > y:\n",
    "            return x\n",
    "        else:\n",
    "            return y\n",
    "    print(func(x,y))\n",
    "except NameError:\n",
    "    print('Error')"
   ]
  },
  {
   "cell_type": "code",
   "execution_count": 3,
   "metadata": {
    "colab": {
     "base_uri": "https://localhost:8080/"
    },
    "id": "CCbaENbihSVV",
    "outputId": "64caddd6-9488-48bd-fd10-16e9c439cdd2"
   },
   "outputs": [
    {
     "name": "stdout",
     "output_type": "stream",
     "text": [
      "Error\n"
     ]
    }
   ],
   "source": [
    "# пример 3 - unsupported operand type\n",
    "try:\n",
    "    x = 2 + 'a'\n",
    "except TypeError:\n",
    "    print('Error')"
   ]
  }
 ],
 "metadata": {
  "colab": {
   "collapsed_sections": [],
   "name": "Занятие 16 часть 1.ipynb",
   "provenance": []
  },
  "kernelspec": {
   "display_name": "Python 3",
   "language": "python",
   "name": "python3"
  },
  "language_info": {
   "codemirror_mode": {
    "name": "ipython",
    "version": 3
   },
   "file_extension": ".py",
   "mimetype": "text/x-python",
   "name": "python",
   "nbconvert_exporter": "python",
   "pygments_lexer": "ipython3",
   "version": "3.8.3"
  }
 },
 "nbformat": 4,
 "nbformat_minor": 1
}
