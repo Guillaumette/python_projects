{
 "cells": [
  {
   "cell_type": "markdown",
   "metadata": {},
   "source": [
    "5.5.0. <br> Проверьте, а можно ли сравнивать логические значения? Что больше, True или False?"
   ]
  },
  {
   "cell_type": "code",
   "execution_count": 6,
   "metadata": {},
   "outputs": [
    {
     "name": "stdout",
     "output_type": "stream",
     "text": [
      "True\n",
      "False\n",
      "True\n",
      "False\n",
      "True\n",
      "True\n"
     ]
    }
   ],
   "source": [
    "x = True\n",
    "y = False\n",
    "print( x > y)\n",
    "print (y > x)\n",
    "print(True > False)\n",
    "print(True < False)\n",
    "print (True != False)\n",
    "print (False != True)"
   ]
  },
  {
   "cell_type": "markdown",
   "metadata": {},
   "source": [
    "Сравнивать логические значения можно, значение True больше. Наверное, это связано с тем, что True можно понимать как 1, а False - как 0, а 1 больше 0. "
   ]
  },
  {
   "cell_type": "markdown",
   "metadata": {},
   "source": [
    "5.5.1. <br> Напишите программу, которая вводит целое число, и выводит True если оно положительное, и False в противном случае."
   ]
  },
  {
   "cell_type": "code",
   "execution_count": 10,
   "metadata": {},
   "outputs": [
    {
     "name": "stdout",
     "output_type": "stream",
     "text": [
      "Число больше нуля:3\n",
      "True\n",
      "False\n"
     ]
    }
   ],
   "source": [
    "n = int(input('Число больше нуля:'))\n",
    "x = True\n",
    "y = False\n",
    "n = x\n",
    "print(n)"
   ]
  },
  {
   "cell_type": "markdown",
   "metadata": {},
   "source": [
    "5.5.2. <br> Напишите программу, которая последовательно вводит два целых числа, и выводит True если второе число больше первого, и False в противном случае."
   ]
  },
  {
   "cell_type": "code",
   "execution_count": 29,
   "metadata": {},
   "outputs": [
    {
     "name": "stdout",
     "output_type": "stream",
     "text": [
      "2\n",
      "3\n",
      "True\n"
     ]
    }
   ],
   "source": [
    "a = int(input())\n",
    "b = int(input())\n",
    "c = (b > a) or (a > b)\n",
    "print(c)"
   ]
  },
  {
   "cell_type": "markdown",
   "metadata": {},
   "source": [
    "5.5.3. <br> Напишите программу, которая последовательно вводит три вещественных числа, и выводит True, если первое число больше второго и третьего, и False в противном случае."
   ]
  },
  {
   "cell_type": "code",
   "execution_count": 26,
   "metadata": {},
   "outputs": [
    {
     "name": "stdout",
     "output_type": "stream",
     "text": [
      "4.5\n",
      "1.2\n",
      "2.4\n",
      "True\n"
     ]
    }
   ],
   "source": [
    "a = float(input())\n",
    "b = float(input())\n",
    "c = float(input())\n",
    "x = True\n",
    "y = False\n",
    "m = (a > (b + c)) or (a < (b + c))\n",
    "print(m)"
   ]
  },
  {
   "cell_type": "markdown",
   "metadata": {},
   "source": [
    "5.5.4. <br> Напишите логическое выражение, в котором наглядно учитывается приоритет унарной операции not (НЕ)."
   ]
  },
  {
   "cell_type": "code",
   "execution_count": 21,
   "metadata": {},
   "outputs": [
    {
     "name": "stdout",
     "output_type": "stream",
     "text": [
      "False\n"
     ]
    }
   ],
   "source": [
    "a = 3\n",
    "b = 4\n",
    "c = 7\n",
    "m = not a or m\n",
    "print(m)"
   ]
  },
  {
   "cell_type": "markdown",
   "metadata": {},
   "source": [
    "Хотя m = m, как указывается в унарной операции or, приоритет находится у операции not, поэтому выводится False. "
   ]
  },
  {
   "cell_type": "markdown",
   "metadata": {},
   "source": [
    "5.5.5. <br> Напишите программу, которая выводит True, если значение вещественной переменной pi лежит в диапазоне от 3.1405 до 3.1423, и False в противном случае."
   ]
  },
  {
   "cell_type": "code",
   "execution_count": 31,
   "metadata": {},
   "outputs": [
    {
     "name": "stdout",
     "output_type": "stream",
     "text": [
      "True\n"
     ]
    }
   ],
   "source": [
    "pi = 3.1415\n",
    "x = 3.1405\n",
    "y = 3.1423\n",
    "m = (x < pi < y) or (x > pi < y)\n",
    "print(m)"
   ]
  },
  {
   "cell_type": "markdown",
   "metadata": {},
   "source": [
    "Рефлексия: первая часть первого задания правильная, вторая часть читерская, потому что у меня беда с математикой и, видимо, с логикой, и такое простое решение в голову не пришло от слова совсем. Второе задание верное."
   ]
  }
 ],
 "metadata": {
  "kernelspec": {
   "display_name": "Python 3",
   "language": "python",
   "name": "python3"
  },
  "language_info": {
   "codemirror_mode": {
    "name": "ipython",
    "version": 3
   },
   "file_extension": ".py",
   "mimetype": "text/x-python",
   "name": "python",
   "nbconvert_exporter": "python",
   "pygments_lexer": "ipython3",
   "version": "3.8.3"
  }
 },
 "nbformat": 4,
 "nbformat_minor": 4
}
