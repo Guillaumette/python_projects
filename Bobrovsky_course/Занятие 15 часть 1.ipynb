{
 "cells": [
  {
   "cell_type": "markdown",
   "metadata": {},
   "source": [
    "Рефлексия:<br>\n",
    "14.4.4: Решение иное, чем менторское, более длинное, но критической ошибки нет, так что считаю его верным. <br>\n",
    "14.4.5: Все верно. <br>\n",
    "14.4.6: Вроде бы ошибки нет. Только моя строка с условным оператором (не внутри цикла!) выглядит очень громоздко и устрашающе по сравнению с менторским решением. Единственное, что я выводила сообщение о некорректности введенных данных, а не возвращала к началу или не заканчивала на последнем символе."
   ]
  },
  {
   "cell_type": "markdown",
   "metadata": {},
   "source": [
    "15.7.1. Напишите функцию, которая получает на вход число и возвращает квадрат этого числа."
   ]
  },
  {
   "cell_type": "code",
   "execution_count": 2,
   "metadata": {},
   "outputs": [
    {
     "name": "stdout",
     "output_type": "stream",
     "text": [
      "Введите число: 3\n",
      "Квадрат числа равен 9\n"
     ]
    }
   ],
   "source": [
    "num = int(input('Введите число: '))\n",
    "\n",
    "def square(num):\n",
    "    return num ** 2\n",
    "\n",
    "print('Квадрат числа равен', square(num))"
   ]
  },
  {
   "cell_type": "markdown",
   "metadata": {},
   "source": [
    "15.7.2. Напишите функцию, которая получает на вход три целых числа и возвращает наименьшее из них."
   ]
  },
  {
   "cell_type": "code",
   "execution_count": 4,
   "metadata": {},
   "outputs": [
    {
     "name": "stdout",
     "output_type": "stream",
     "text": [
      "Первое целое число: 1\n",
      "Второе целое число: 2\n",
      "Третье целое число: 3\n",
      "Наименьшее число: 1\n"
     ]
    }
   ],
   "source": [
    "a = int(input('Первое целое число: '))\n",
    "b = int(input('Второе целое число: '))\n",
    "c = int(input('Третье целое число: '))\n",
    "\n",
    "def min_num(a, b, c):\n",
    "    if a < b and a < c:\n",
    "        return a\n",
    "    elif b < a and b < c:\n",
    "        return b\n",
    "    else:\n",
    "        return c\n",
    "\n",
    "print('Наименьшее число:', min_num(a, b, c))"
   ]
  },
  {
   "cell_type": "markdown",
   "metadata": {},
   "source": [
    "15.7.3. Напишите функцию, которая подсчитывает количество слов в строке."
   ]
  },
  {
   "cell_type": "code",
   "execution_count": 19,
   "metadata": {},
   "outputs": [
    {
     "name": "stdout",
     "output_type": "stream",
     "text": [
      "Введите строку: Напишите функцию, которая подсчитывает количество слов в строке.\n",
      "Количество слов в строке: 8\n"
     ]
    }
   ],
   "source": [
    "s = input('Введите строку: ')\n",
    "lst = list(s) # конвертируем строку в список\n",
    "\n",
    "def words_num(s):\n",
    "    words = 0 # задаем счетчик слов\n",
    "    if len(lst) > 0 and lst[0] != ' ': # если строка не пустая и первый символ строки не пробел, \n",
    "        words = 1 # то считаем с одного\n",
    "    for i in range(len(lst) - 1):\n",
    "        if lst[i] == ' ' and lst[i + 1] != ' ': # если у нас пробел, а по соседству не пробел, \n",
    "            words += 1 # то считаем это как одно слово\n",
    "    return words\n",
    "\n",
    "print('Количество слов в строке:', words_num(words))"
   ]
  }
 ],
 "metadata": {
  "kernelspec": {
   "display_name": "Python 3",
   "language": "python",
   "name": "python3"
  },
  "language_info": {
   "codemirror_mode": {
    "name": "ipython",
    "version": 3
   },
   "file_extension": ".py",
   "mimetype": "text/x-python",
   "name": "python",
   "nbconvert_exporter": "python",
   "pygments_lexer": "ipython3",
   "version": "3.8.3"
  }
 },
 "nbformat": 4,
 "nbformat_minor": 4
}
