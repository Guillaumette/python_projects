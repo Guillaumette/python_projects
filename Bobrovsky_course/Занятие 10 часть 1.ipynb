{
 "cells": [
  {
   "cell_type": "markdown",
   "metadata": {},
   "source": [
    "Рефлексия: <br>\n",
    "9.3.5: Все верно, решала не циклом, но последовательно выделяла 6 цифр. Обратила внимание, что в менторском решении нет учета случая, если будет вводиться шестизначное число, начинающееся с нуля. <br>\n",
    "9.3.6: Все верно, и последовательность тоже не нарушена. "
   ]
  },
  {
   "cell_type": "markdown",
   "metadata": {},
   "source": [
    "10.5.1. Напишите программу, которая печатает такой узор:\n",
    "\n",
    "* \n",
    "* * \n",
    "* * * \n",
    "* * * * \n",
    "* * * * * \n",
    "* * * * \n",
    "* * * \n",
    "* * \n",
    "*"
   ]
  },
  {
   "cell_type": "code",
   "execution_count": 1,
   "metadata": {},
   "outputs": [
    {
     "name": "stdout",
     "output_type": "stream",
     "text": [
      " \n",
      "*  \n",
      "* *  \n",
      "* * *  \n",
      "* * * *  \n",
      "* * * * *  \n",
      "* * * *  \n",
      "* * *  \n",
      "* *  \n",
      "*  \n"
     ]
    }
   ],
   "source": [
    "n = 5\n",
    "# цикл по количеству строк первой части, до j == 4\n",
    "for j in range (0, n):\n",
    "    for i in range (j):\n",
    "        print(\"*\", end = \" \")\n",
    "    print(\" \")\n",
    "\n",
    "for j in range (n, 0, -1):\n",
    "    for i in range (j):\n",
    "        print(\"*\", end = \" \")\n",
    "    print(\" \")"
   ]
  },
  {
   "cell_type": "markdown",
   "metadata": {},
   "source": [
    "10.5.2. Напишите программу, которая печатает такой узор:\n",
    "\n",
    "*****                                                                  \n",
    "*                                                                      \n",
    "*                                                                      \n",
    "****                                                                   \n",
    "*                                                                      \n",
    "*                                                                      \n",
    "*****"
   ]
  },
  {
   "cell_type": "code",
   "execution_count": 26,
   "metadata": {},
   "outputs": [
    {
     "name": "stdout",
     "output_type": "stream",
     "text": [
      " \n",
      "***** \n",
      "* \n",
      "* \n",
      "**** \n",
      "* \n",
      "* \n",
      "***** \n"
     ]
    }
   ],
   "source": [
    "n = 7\n",
    "\n",
    "for j in range (0, n+1):\n",
    "    for i in range(5):\n",
    "        if j == 1 or j == 7:\n",
    "            print(\"*\", end = \"\")\n",
    "    for i in range(1):\n",
    "        if j == 2 or j == 3 or j == 5 or j == 6:\n",
    "            print(\"*\", end = \"\")\n",
    "    for i in range(4):\n",
    "        if j == 4:\n",
    "            print(\"*\", end = \"\")\n",
    "    print(\" \")"
   ]
  }
 ],
 "metadata": {
  "kernelspec": {
   "display_name": "Python 3",
   "language": "python",
   "name": "python3"
  },
  "language_info": {
   "codemirror_mode": {
    "name": "ipython",
    "version": 3
   },
   "file_extension": ".py",
   "mimetype": "text/x-python",
   "name": "python",
   "nbconvert_exporter": "python",
   "pygments_lexer": "ipython3",
   "version": "3.8.3"
  }
 },
 "nbformat": 4,
 "nbformat_minor": 4
}
