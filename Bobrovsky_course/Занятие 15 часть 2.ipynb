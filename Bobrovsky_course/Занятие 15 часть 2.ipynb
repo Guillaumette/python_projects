{
 "cells": [
  {
   "cell_type": "markdown",
   "metadata": {},
   "source": [
    "Рефлексия: <br>\n",
    "15.7.1: Все верно, только сначала я ввожу переменные, а потом пишу функцию. <br>\n",
    "15.7.2: Не очень поняла мысль про дополнительную переменную, но, наверное, я это и сделала. <br>\n",
    "15.7.3: Является ли введение переменных частью кода? Если да, тогда я допустила ошибку. Если нет, тогда все верно. "
   ]
  },
  {
   "cell_type": "markdown",
   "metadata": {},
   "source": [
    "15.7.4. Напишите функцию, которая получает на вход три строки, а возвращает наименьшее число слов в какой-то из них. Для этого задействуйте свои функции из предыдущих примеров, комбинируя их -- вызывая в том виде, в каком они уже были сделаны."
   ]
  },
  {
   "cell_type": "code",
   "execution_count": 12,
   "metadata": {},
   "outputs": [
    {
     "name": "stdout",
     "output_type": "stream",
     "text": [
      "Туман поредел,\n",
      "и столбом под солнцем поднялся\n",
      "черный дым вулкана…\n",
      "Наименьшее число слов 2\n"
     ]
    }
   ],
   "source": [
    "# берем функцию, которая считает количество слов в строке\n",
    "def words_num(s):\n",
    "    words = 0 \n",
    "    if len(s) > 0 and s[0] != ' ': \n",
    "        words = 1\n",
    "    for i in range(len(s) - 1):\n",
    "        if s[i] == ' ' and s[i + 1] != ' ': \n",
    "            words += 1 \n",
    "    return words\n",
    "\n",
    "# пишем функцию, которая вычисляет наименьшее число слов в строке\n",
    "def least(a, b, c):\n",
    "    if a < b and a < c:\n",
    "        return a\n",
    "    elif b < a and b < c:\n",
    "        return b\n",
    "    else:\n",
    "        return c\n",
    "\n",
    "# пишем функцию, которая получает на вход строки и возвращает наименьшее количество слов в какой-то из строк\n",
    "def func(x, y, z):\n",
    "    a = words_num(x)\n",
    "    b = words_num(y)\n",
    "    c = words_num(z)\n",
    "    return(least(a, b, c))\n",
    "    \n",
    "s1 = input()\n",
    "lst1 = list(s1)\n",
    "s2 = input()\n",
    "lst2 = list(s2)\n",
    "s3 = input()\n",
    "lst3 = list(s3)\n",
    "\n",
    "print('Наименьшее число слов', func(s1, s2, s3))"
   ]
  },
  {
   "cell_type": "markdown",
   "metadata": {},
   "source": [
    "15.7.5. Напишите функцию, которая получает на вход два параметра: список целых чисел и контрольное число, находит в списке элемент, равный контрольному числу, и возвращает его индекс в списке с помощью return. Если элемент в списке не найден, программа должна вернуть -1."
   ]
  },
  {
   "cell_type": "code",
   "execution_count": 10,
   "metadata": {},
   "outputs": [
    {
     "name": "stdout",
     "output_type": "stream",
     "text": [
      "Контрольное число 1\n",
      "Список значений списка: [4, 5, 4, 4, 1] контрольное число 1\n",
      "4\n"
     ]
    }
   ],
   "source": [
    "def func(x, y):\n",
    "    for i in range(len(x)): # пробегаемся по списку\n",
    "        if x[i] == y: # если элемент списка равен контрольному числу,\n",
    "            return i # возвращаем его индекс\n",
    "    return -1 # если цикл завершится неудачей, то функция автоматически перейдет к этому шагу и вернет -1\n",
    "\n",
    "import random\n",
    "num = int(input('Контрольное число '))\n",
    "lst = []\n",
    "for i in range(5):\n",
    "    lst.append(random.randint(1, 5)) \n",
    "print('Список значений списка:', lst, 'контрольное число', num)\n",
    "\n",
    "print(func(lst, num))"
   ]
  },
  {
   "cell_type": "markdown",
   "metadata": {},
   "source": [
    "15.7.6. Напишите функцию, которая ничего не делает: ничего не получает на вход, и ничего не вычисляет."
   ]
  },
  {
   "cell_type": "code",
   "execution_count": 5,
   "metadata": {},
   "outputs": [],
   "source": [
    "def func():\n",
    "    return()"
   ]
  }
 ],
 "metadata": {
  "kernelspec": {
   "display_name": "Python 3",
   "language": "python",
   "name": "python3"
  },
  "language_info": {
   "codemirror_mode": {
    "name": "ipython",
    "version": 3
   },
   "file_extension": ".py",
   "mimetype": "text/x-python",
   "name": "python",
   "nbconvert_exporter": "python",
   "pygments_lexer": "ipython3",
   "version": "3.8.3"
  }
 },
 "nbformat": 4,
 "nbformat_minor": 4
}
