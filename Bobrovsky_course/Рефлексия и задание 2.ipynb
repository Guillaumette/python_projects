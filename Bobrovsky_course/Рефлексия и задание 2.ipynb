{
 "cells": [
  {
   "cell_type": "markdown",
   "metadata": {},
   "source": [
    "По первому заданию решение было правильным. \n",
    "\n",
    "Предположу, что на Python Tutor компилятор используется в момент нажатия кнопки Vizualize Execution. Но мне пока не очень понятно до конца, что такой компилятор, потому что я смутно представляю, на какие такие машинные коды он переводит код язка программирования с предметно-ориентированного языка."
   ]
  }
 ],
 "metadata": {
  "kernelspec": {
   "display_name": "Python 3",
   "language": "python",
   "name": "python3"
  },
  "language_info": {
   "codemirror_mode": {
    "name": "ipython",
    "version": 3
   },
   "file_extension": ".py",
   "mimetype": "text/x-python",
   "name": "python",
   "nbconvert_exporter": "python",
   "pygments_lexer": "ipython3",
   "version": "3.8.3"
  }
 },
 "nbformat": 4,
 "nbformat_minor": 4
}
