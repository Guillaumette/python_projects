{
 "cells": [
  {
   "cell_type": "markdown",
   "metadata": {},
   "source": [
    "7.5. <br> Три бандита, Джек, Джон и Джун, никак не могут разобраться с награбленным. Каждый из них утащил несколько ящиков с золотом, и теперь они ругаются, кому же было тяжелее всего. <br> \n",
    "Введите три числа и напечатайте \"all equals\" если все числа равны, \"all different\" если все числа различны, и \"equal or different\" в противном случае."
   ]
  },
  {
   "cell_type": "code",
   "execution_count": 2,
   "metadata": {},
   "outputs": [
    {
     "name": "stdout",
     "output_type": "stream",
     "text": [
      "1\n",
      "2\n",
      "3\n",
      "all different\n"
     ]
    }
   ],
   "source": [
    "jack = int(input())\n",
    "john = int(input())\n",
    "jun = int(input())\n",
    "\n",
    "if jack == john == jun:\n",
    "    print('all equals')\n",
    "elif jack != john and jack != jun and john != jun and jun != jack:\n",
    "    print('all different')\n",
    "else:\n",
    "    print('equal or different')"
   ]
  },
  {
   "cell_type": "markdown",
   "metadata": {},
   "source": [
    "7.6. <br> После глобальной блокировки интернета стало невозможным быстро нагуглить, сколько в каком месяце дней, а многие даже стали путать весну и осень. <br>\n",
    "Напишите программу, которая при вводе номера месяца 1..12 выводит количество дней в нём, а также соответствующий сезон года (один из четырёх)."
   ]
  },
  {
   "cell_type": "code",
   "execution_count": 1,
   "metadata": {},
   "outputs": [
    {
     "name": "stdout",
     "output_type": "stream",
     "text": [
      "5\n",
      "31 день, весна\n"
     ]
    }
   ],
   "source": [
    "month = int(input())\n",
    "if month == 1 or month == 12:\n",
    "    print('31 день, зима')\n",
    "elif month == 3 or month == 5:\n",
    "    print('31 день, весна')\n",
    "elif month == 7 or month == 8:\n",
    "    print('31 день, лето')\n",
    "elif month == 10:\n",
    "    print('31 день, осень')\n",
    "elif month == 4:\n",
    "    print('30 дней, весна')\n",
    "elif month == 6:\n",
    "    print('30 дней, лето')\n",
    "elif month == 9 or month == 11:\n",
    "    print('30 дней, осень')\n",
    "else:\n",
    "    print('28 дней, зима')"
   ]
  },
  {
   "cell_type": "markdown",
   "metadata": {},
   "source": [
    "Рефлексия: <br>\n",
    "7.1.: неверно поняла формулировку, думала, что надо не через инпуты, но теперь вижу, что без инпутов мое решение неоптимально. <br>\n",
    "7.2.: не поняла предложенное решение, смею считать свое даже чем-то оптимальнее. <br>\n",
    "7.3.: Все верно и записано даже более компактно. <br>\n",
    "7.4.: Все верно. "
   ]
  }
 ],
 "metadata": {
  "kernelspec": {
   "display_name": "Python 3",
   "language": "python",
   "name": "python3"
  },
  "language_info": {
   "codemirror_mode": {
    "name": "ipython",
    "version": 3
   },
   "file_extension": ".py",
   "mimetype": "text/x-python",
   "name": "python",
   "nbconvert_exporter": "python",
   "pygments_lexer": "ipython3",
   "version": "3.8.3"
  }
 },
 "nbformat": 4,
 "nbformat_minor": 4
}
