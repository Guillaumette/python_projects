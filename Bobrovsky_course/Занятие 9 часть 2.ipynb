{
 "cells": [
  {
   "cell_type": "markdown",
   "metadata": {},
   "source": [
    "9.3.3. Найдите наибольший общий делитель (НОД) двух целых чисел X и Y.\n",
    "НОД -- это максимальное число, на которое делится без остатка и X, и Y."
   ]
  },
  {
   "cell_type": "code",
   "execution_count": 24,
   "metadata": {},
   "outputs": [
    {
     "name": "stdout",
     "output_type": "stream",
     "text": [
      "500\n",
      "150\n",
      "Наибольший общий делитель чисел 500 и 150 равен 50\n"
     ]
    }
   ],
   "source": [
    "x = int(input())\n",
    "y = int(input())\n",
    "maximum = 0\n",
    "\n",
    "if x<y:\n",
    "    for i in range (1, y+1):\n",
    "        if x % i == 0 and y % i == 0:\n",
    "            maximum = i\n",
    "            \n",
    "elif y<x:\n",
    "    for i in range (1, x+1):\n",
    "        if x % i == 0 and y % i == 0:\n",
    "            maximum = i\n",
    "            \n",
    "print('Наибольший общий делитель чисел', x, 'и', y, 'равен', maximum)"
   ]
  },
  {
   "cell_type": "markdown",
   "metadata": {},
   "source": [
    "9.3.4. Вы получили заказ распарсить сайты с ценой на новый айфон. На вход программа получает количество распарсенных значений, и далее набор цен (целые числа). Ваша задача -- найти максимальную и минимальную цены на айфон.\n",
    "\n",
    "Например, входные данные могут быть такими: 5 10000 99000 9000 9900 10001\n",
    "Должны вывестись числа 99000 и 9000.\n",
    "\n",
    "Подсказка: схема примерно такая же, как и с роутерами.\n",
    "Вводим очередную цену в цикле до кол-ва цен, и сравниваем её с текущей максимальной (задаётся заранее). Если очередная цена больше максимальной, то обновляем новое значение максимума.\n",
    "И аналогично (и независимо) организуем поиск минимальной цены."
   ]
  },
  {
   "cell_type": "code",
   "execution_count": 13,
   "metadata": {},
   "outputs": [
    {
     "name": "stdout",
     "output_type": "stream",
     "text": [
      "Количество цен: 5\n",
      "Максимальная цена: 98000\n",
      "Минимальная цена: 1000\n",
      "Цена за айфон: 10000\n",
      "Цена за айфон: 99000\n",
      "Цена за айфон: 500\n",
      "Цена за айфон: 9900\n",
      "Цена за айфон: 10001\n",
      "99000 500\n"
     ]
    }
   ],
   "source": [
    "prices = int(input('Количество цен: '))\n",
    "max_price = int(input('Максимальная цена: '))\n",
    "min_price = int(input('Минимальная цена: '))\n",
    "\n",
    "for p in range(prices):\n",
    "    price = int(input('Цена за айфон: '))\n",
    "    if price > max_price:\n",
    "        max_price = price\n",
    "        continue\n",
    "    if price < min_price:\n",
    "        min_price = price\n",
    "        \n",
    "\n",
    "print(max_price, min_price)"
   ]
  },
  {
   "cell_type": "markdown",
   "metadata": {},
   "source": [
    "Рефлексия: <br>\n",
    "9.3.1.: решила так же, но без continue, не знаю, считать ли это грубой ошибкой. <br>\n",
    "9.3.2.: мой код несколько более громоздкий, в ифе прописано больше условий, но по тем пунктам, которые указываются, как потенциальные ошибки, косяков нет."
   ]
  }
 ],
 "metadata": {
  "kernelspec": {
   "display_name": "Python 3",
   "language": "python",
   "name": "python3"
  },
  "language_info": {
   "codemirror_mode": {
    "name": "ipython",
    "version": 3
   },
   "file_extension": ".py",
   "mimetype": "text/x-python",
   "name": "python",
   "nbconvert_exporter": "python",
   "pygments_lexer": "ipython3",
   "version": "3.8.3"
  }
 },
 "nbformat": 4,
 "nbformat_minor": 4
}
