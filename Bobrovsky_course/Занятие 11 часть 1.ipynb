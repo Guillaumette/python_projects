{
 "cells": [
  {
   "cell_type": "markdown",
   "metadata": {},
   "source": [
    "Рефлексия: <br>\n",
    "10.5.3: Все решено верно и по схожей логике, но мне не удалось избежать вложенного ифа. <br>\n",
    "10.5.4.: Все верно. "
   ]
  },
  {
   "cell_type": "markdown",
   "metadata": {},
   "source": [
    "11.3.1. Выведите три раза сообщение \"hello\"."
   ]
  },
  {
   "cell_type": "code",
   "execution_count": 21,
   "metadata": {},
   "outputs": [
    {
     "name": "stdout",
     "output_type": "stream",
     "text": [
      "hello\n",
      "hello\n",
      "hello\n"
     ]
    }
   ],
   "source": [
    "n = 1\n",
    "while n <= 3:    \n",
    "    print (\"hello\")\n",
    "    n += 1"
   ]
  },
  {
   "cell_type": "markdown",
   "metadata": {},
   "source": [
    "11.3.2. Выведите числа от N (само N вводится с клавиатуры) до 1 -- в обратном порядке (по убыванию)."
   ]
  },
  {
   "cell_type": "code",
   "execution_count": 14,
   "metadata": {},
   "outputs": [
    {
     "name": "stdout",
     "output_type": "stream",
     "text": [
      "10\n",
      "10 9 8 7 6 5 4 3 2 1 "
     ]
    }
   ],
   "source": [
    "n = int(input())\n",
    "while n <= n and n >=1:\n",
    "    print(n, end = ' ')\n",
    "    n -= 1"
   ]
  },
  {
   "cell_type": "markdown",
   "metadata": {},
   "source": [
    "11.3.3. Вася начинающий хакер. Он планирует взломать кэш Windows на компьютере приятеля, чтобы вытащить оттуда его пароль ВКонтакте, но пока не может разобраться, какие числа в кэше служебные.\n",
    "Служебными условно будем считать числа, которые представляют собой степень двойки -- 1,2,4,8,16,32,...\n",
    "Помогите Васе определить, будет ли некоторое целое положительное число, вводимое в программу, степенью двойки."
   ]
  },
  {
   "cell_type": "code",
   "execution_count": 36,
   "metadata": {},
   "outputs": [
    {
     "name": "stdout",
     "output_type": "stream",
     "text": [
      "5\n",
      "Это не служебное число\n"
     ]
    }
   ],
   "source": [
    "n = int(input())\n",
    "if n == 1:\n",
    "    n = 0\n",
    "\n",
    "while n > 1:\n",
    "    n //= 2\n",
    "\n",
    "if n == 0:\n",
    "    print('Это служебное число')\n",
    "\n",
    "if n < 0:\n",
    "    print('Это не служебное число')"
   ]
  }
 ],
 "metadata": {
  "kernelspec": {
   "display_name": "Python 3",
   "language": "python",
   "name": "python3"
  },
  "language_info": {
   "codemirror_mode": {
    "name": "ipython",
    "version": 3
   },
   "file_extension": ".py",
   "mimetype": "text/x-python",
   "name": "python",
   "nbconvert_exporter": "python",
   "pygments_lexer": "ipython3",
   "version": "3.8.3"
  }
 },
 "nbformat": 4,
 "nbformat_minor": 4
}
