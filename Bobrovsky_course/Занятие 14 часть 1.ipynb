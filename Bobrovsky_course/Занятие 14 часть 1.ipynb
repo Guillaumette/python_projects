{
 "cells": [
  {
   "cell_type": "markdown",
   "metadata": {
    "id": "eHpw6k1QhlSV"
   },
   "source": [
    "Рефлексия: <br>\n",
    "13.4.5: Удивительно, но все верно. Думала, что куча моих циклов точно будет прирванена к какой-нибудь ошибке, типа много памяти занимает, но оказывается, так и нужно было делать - разными циклами каждый шаг. <br>\n",
    "13.4.6: Мой код отличается от менторского: я делаю все вложенными циклами, а не двумя разными. В комментариях ментора это не указано как ошибка, так что, думаю, что все верно."
   ]
  },
  {
   "cell_type": "markdown",
   "metadata": {
    "id": "q0yXL0v5hlSb"
   },
   "source": [
    "14.4.1. Напишите программу, которая подсчитывает количество слов в строке."
   ]
  },
  {
   "cell_type": "code",
   "execution_count": 59,
   "metadata": {
    "colab": {
     "base_uri": "https://localhost:8080/"
    },
    "id": "MFDqf8k_hlSb",
    "outputId": "7d9ffdad-a4ec-4c7e-990d-4abccff4badb"
   },
   "outputs": [
    {
     "name": "stdout",
     "output_type": "stream",
     "text": [
      "посчитать количество  слов в этой строке\n",
      "Количество слов в строке равно 6\n"
     ]
    }
   ],
   "source": [
    "s = input('')\n",
    "words = 0 # введем переменную для счетчика слов в строке\n",
    "flag = 0 # введем переменную-флаг для определения, находимся мы внутри слова или нет. Если флаг равен нулю, значит мы вне слова\n",
    "\n",
    "for i in range(len(s)): # пройдемся по элементам строки, как по списку\n",
    "    if s[i] != ' ' and flag == 0: # если элемент строки не является пробелом, а флаг равен нулю,\n",
    "        words += 1 # то прибавляем один к счетчику слов\n",
    "        flag = 1 # и меняем значение флага на \"внутри слова\"\n",
    "    elif s[i] == ' ': # иначе, если элемент равен пробелу,\n",
    "        flag = 0 # ставим флаг в значение \"вне слова\"\n",
    "\n",
    "print('Количество слов в строке равно', words)"
   ]
  },
  {
   "cell_type": "markdown",
   "metadata": {
    "id": "SdiupxPjl-WJ"
   },
   "source": [
    "14.4.2. Введите с клавиатуры две строки, сравните их и выведите либо индекс первого символа, с которого начинается неравенство (с учётом того, что длины строк могут различаться), либо EQUALS.\n",
    "Не используйте в решении операцию проверки строк на равенство =="
   ]
  },
  {
   "cell_type": "code",
   "execution_count": 60,
   "metadata": {
    "colab": {
     "base_uri": "https://localhost:8080/"
    },
    "id": "MLF_m16pTDsU",
    "outputId": "3036f006-ce89-46d2-e56a-94ecc4ed84cb"
   },
   "outputs": [
    {
     "name": "stdout",
     "output_type": "stream",
     "text": [
      "hell\n",
      "hello\n",
      "4\n"
     ]
    }
   ],
   "source": [
    "# введем две строки\n",
    "s1 = input('')\n",
    "s2 = input('')\n",
    "# преобразуем строки в списки\n",
    "lst1 = list(s1)  \n",
    "lst2 = list(s2)\n",
    "# для удобства введем переменные для длин получившихся списков\n",
    "len1 = len(lst1)\n",
    "len2 = len(lst2)\n",
    "# введем переменную для общей длины обоих списков на случай, если длины списков отличаются\n",
    "shared_len = 0\n",
    "\n",
    "# пропишем условие, позволяющее определить значение общей длины\n",
    "if len1 > len2: # если длина первого списка больше длины второго,\n",
    "    shared_len = len2 # то общая длина равна меньшему\n",
    "else:\n",
    "    shared_len = len1 # если первый список короче второго, то общая длина равна первому\n",
    "\n",
    "for index_letter in range(shared_len): # для индекса буквы в общей длине:\n",
    "    if lst1[index_letter] != lst2[index_letter]: # если индекс буквы первого списка не равен индексу буквы второго списка,\n",
    "        print(index_letter) # то печатаем этот индекс\n",
    "        break # и больше ничего не делаем\n",
    "    if index_letter == shared_len - 1 and len1 != len2: # если отличающийся символ в строке является последним в этой строке и длины списков не равны,\n",
    "        print(shared_len) # то пишем длину списка, эта цифра и будет нужным индексом (индексом элемента, следующим после одинаковых элементов строки и за пределами длины меньшего списка)\n",
    "    elif index_letter == shared_len - 1 and len1 == len2: # иначе, если индекс буквы является последним и списки равны, \n",
    "        print('EQUALS') # то пишем, что строки одинаковые"
   ]
  },
  {
   "cell_type": "markdown",
   "metadata": {
    "id": "TO4RG93RqM9f"
   },
   "source": [
    "14.4.3. Напишите программу, которая заменяет в строке все символы 'a' на символ 'z' и выводит на экран результирующую строку."
   ]
  },
  {
   "cell_type": "code",
   "execution_count": 61,
   "metadata": {
    "colab": {
     "base_uri": "https://localhost:8080/"
    },
    "id": "A6osOFpEnyPq",
    "outputId": "dab6e682-7152-420a-d602-d78ce3c7bca3"
   },
   "outputs": [
    {
     "name": "stdout",
     "output_type": "stream",
     "text": [
      "achieve, affection, able, apartheid, aaaaaaaaa, amazing, afternoon, aoo\n",
      "zchieve, zffection, zble, zpzrtheid, zzzzzzzzz, zmzzing, zfternoon, zoo\n"
     ]
    }
   ],
   "source": [
    "s = input('') # создадим строку\n",
    "s1 = list(s) # преобразуем строку в список и запишем в другую переменную\n",
    "s2 = '' # создадим еще одну переменную для измененной строки\n",
    "\n",
    "for i in range(len(s1)): # пройдемся по индексам строки-списка\n",
    "    if s1[i] == 'a': # если символ является буквой а,\n",
    "        s1[i] = 'z' # заменяем его на букву z,\n",
    "        s2 = ''.join(s1) # добавляем в новую строку то, что получилось\n",
    "\n",
    "print(s2)"
   ]
  }
 ],
 "metadata": {
  "colab": {
   "collapsed_sections": [],
   "name": "Занятие 14 часть 1.ipynb",
   "provenance": []
  },
  "kernelspec": {
   "display_name": "Python 3",
   "language": "python",
   "name": "python3"
  },
  "language_info": {
   "codemirror_mode": {
    "name": "ipython",
    "version": 3
   },
   "file_extension": ".py",
   "mimetype": "text/x-python",
   "name": "python",
   "nbconvert_exporter": "python",
   "pygments_lexer": "ipython3",
   "version": "3.8.3"
  }
 },
 "nbformat": 4,
 "nbformat_minor": 1
}
