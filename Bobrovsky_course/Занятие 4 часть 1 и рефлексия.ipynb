{
 "cells": [
  {
   "cell_type": "markdown",
   "metadata": {},
   "source": [
    "В Python приведение типов всегда выполняется в самую последнюю очередь. <br>\n",
    "Как вы думаете, почему так сделано?\n",
    "<br>\n",
    "Так сделано для выведения более корректного результата: значение выражения int(0.02 + 0.99) ближе к единице, чем к нулю."
   ]
  },
  {
   "cell_type": "markdown",
   "metadata": {},
   "source": [
    "4.5.0. <br>\n",
    "Проверьте, что случится, если вы дадите на вход одной из программ урока не число, а например какую-то строку. Почему так произошло?"
   ]
  },
  {
   "cell_type": "code",
   "execution_count": 1,
   "metadata": {},
   "outputs": [
    {
     "name": "stdout",
     "output_type": "stream",
     "text": [
      "INPUT: strabc\n"
     ]
    },
    {
     "ename": "ValueError",
     "evalue": "invalid literal for int() with base 10: 'abc'",
     "output_type": "error",
     "traceback": [
      "\u001b[1;31m---------------------------------------------------------------------------\u001b[0m",
      "\u001b[1;31mValueError\u001b[0m                                Traceback (most recent call last)",
      "\u001b[1;32m<ipython-input-1-e7f677e5d7e2>\u001b[0m in \u001b[0;36m<module>\u001b[1;34m\u001b[0m\n\u001b[1;32m----> 1\u001b[1;33m \u001b[0mi\u001b[0m \u001b[1;33m=\u001b[0m \u001b[0mint\u001b[0m\u001b[1;33m(\u001b[0m\u001b[0minput\u001b[0m\u001b[1;33m(\u001b[0m\u001b[1;34m'INPUT: str'\u001b[0m\u001b[1;33m)\u001b[0m\u001b[1;33m)\u001b[0m\u001b[1;33m\u001b[0m\u001b[1;33m\u001b[0m\u001b[0m\n\u001b[0m",
      "\u001b[1;31mValueError\u001b[0m: invalid literal for int() with base 10: 'abc'"
     ]
    }
   ],
   "source": [
    "i = int(input('INPUT: str'))"
   ]
  },
  {
   "cell_type": "markdown",
   "metadata": {},
   "source": [
    "Произошла ошибка, потому что в программе урока мы изучали приведение типа int, то есть целых чисел, соответственно, надо было вводить целое число, чтобы все сработало. "
   ]
  },
  {
   "cell_type": "markdown",
   "metadata": {},
   "source": [
    "4.5.1. <br>\n",
    "Напишите программу, которая последовательно вводит с клавиатуры два целых числа, и затем выводит их сумму, разность, произведение и частное."
   ]
  },
  {
   "cell_type": "code",
   "execution_count": 4,
   "metadata": {},
   "outputs": [
    {
     "name": "stdout",
     "output_type": "stream",
     "text": [
      "1\n",
      "2\n"
     ]
    }
   ],
   "source": [
    "x = int(input())\n",
    "y = int(input())"
   ]
  },
  {
   "cell_type": "code",
   "execution_count": 7,
   "metadata": {},
   "outputs": [
    {
     "name": "stdout",
     "output_type": "stream",
     "text": [
      "сумма равна 3\n",
      "разность равна -1\n",
      "произведение равно 2\n",
      "частное равно 0.5\n"
     ]
    }
   ],
   "source": [
    "print('сумма равна', x + y)\n",
    "print('разность равна', x - y)\n",
    "print('произведение равно', x * y)\n",
    "print('частное равно', x / y)"
   ]
  },
  {
   "cell_type": "markdown",
   "metadata": {},
   "source": [
    "4.5.2. <br> Напишите программу, которая вводит радиус окружности, а выводит её периметр."
   ]
  },
  {
   "cell_type": "code",
   "execution_count": 9,
   "metadata": {},
   "outputs": [
    {
     "name": "stdout",
     "output_type": "stream",
     "text": [
      "2\n",
      "периметр равен 12.56\n"
     ]
    }
   ],
   "source": [
    "r = int(input())\n",
    "pi = 3.14\n",
    "p = r * 2 * pi\n",
    "print('периметр равен', p)"
   ]
  },
  {
   "cell_type": "markdown",
   "metadata": {},
   "source": [
    "4.5.3. <br> Трое друзей, Вася, Петя и Миша, отправились на шашлыки. Они договорились, что каждый купит столько килограммов шашлыка, сколько кому по карману. Но друзья на то и друзья -- всё, что будет куплено, поместится в общий котёл, и затем каждый получит ровно третью часть от всех шашлыков."
   ]
  },
  {
   "cell_type": "code",
   "execution_count": 5,
   "metadata": {},
   "outputs": [
    {
     "name": "stdout",
     "output_type": "stream",
     "text": [
      "2.5\n",
      "1.5\n",
      "3.2\n",
      "Каждому досталось 2.0 кг шашлыка\n"
     ]
    }
   ],
   "source": [
    "v = float(input())\n",
    "p = float(input())\n",
    "m = float(input())\n",
    "sh = (v + p + m) // 3\n",
    "print('Каждому досталось', sh, 'кг шашлыка')"
   ]
  },
  {
   "cell_type": "markdown",
   "metadata": {},
   "source": [
    "Рефлексия: все из третьего задания было решено правильно. Первое задание даже двумя способами. Второй, более сложный, апеллируя к комментарию важности не гуглить, я не гуглила, а сама честно уже знала."
   ]
  }
 ],
 "metadata": {
  "kernelspec": {
   "display_name": "Python 3",
   "language": "python",
   "name": "python3"
  },
  "language_info": {
   "codemirror_mode": {
    "name": "ipython",
    "version": 3
   },
   "file_extension": ".py",
   "mimetype": "text/x-python",
   "name": "python",
   "nbconvert_exporter": "python",
   "pygments_lexer": "ipython3",
   "version": "3.8.3"
  }
 },
 "nbformat": 4,
 "nbformat_minor": 4
}
