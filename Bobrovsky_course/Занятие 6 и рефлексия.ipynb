{
 "cells": [
  {
   "cell_type": "markdown",
   "metadata": {},
   "source": [
    "6.6.1. <br>\n",
    "\n",
    "\n",
    "Я уверен, что вы уже в совершенстве познали искусство сравнения чисел.\n",
    "Напишите программу, которая вводит три числа и выводит самое большое из них."
   ]
  },
  {
   "cell_type": "code",
   "execution_count": 7,
   "metadata": {},
   "outputs": [
    {
     "name": "stdout",
     "output_type": "stream",
     "text": [
      "1\n",
      "2\n",
      "3\n",
      "самое большое число: 3\n"
     ]
    }
   ],
   "source": [
    "a = int(input())\n",
    "b = int(input())\n",
    "c = int(input())\n",
    "if a > b:\n",
    "    print('самое большое число:', a)\n",
    "elif b > c:\n",
    "    print('самое большое число:', b)\n",
    "elif a > c:\n",
    "    print('самое большое число:', a)\n",
    "elif c > a:\n",
    "    print('самое большое число:', c)\n",
    "elif c > b:\n",
    "    print('самое большое число:', c)\n",
    "elif b > a:\n",
    "    print('самое большое число:', b)"
   ]
  },
  {
   "cell_type": "markdown",
   "metadata": {},
   "source": [
    "6.6.2. <br> \n",
    "\n",
    "Сборная России по футболу вышла в финал Чемпионата Мира, матч с бразильцами только что закончился. Требуется срочно распространить по всему миру информацию, кто же выиграл и каков итоговый счёт. На вход подаются четыре числа -- сколько голов забила Россия и Бразилия в первом тайме, и сколько голов забила Россия и Бразилия во втором тайме.\n",
    "<br>\n",
    "\n",
    "Например: 0 2 3 0 (каждое число вводится, конечно, отдельной командой ввода) -- это означает, что Россия выиграла 3:2.\n",
    "<br>\n",
    "\n",
    "Выведите команду-победителя и счёт матча. Добавьте сообщение о ничьей и дополнительном времени, если счёт равный."
   ]
  },
  {
   "cell_type": "code",
   "execution_count": 4,
   "metadata": {},
   "outputs": [
    {
     "name": "stdout",
     "output_type": "stream",
     "text": [
      "2\n",
      "4\n",
      "3\n",
      "6\n",
      "Бразилия выиграла со счетом 10 : 5\n"
     ]
    }
   ],
   "source": [
    "russia_first = int(input())\n",
    "brazil_first = int(input())\n",
    "russia_second = int(input())\n",
    "brazil_second = int(input())\n",
    "if (brazil_first + brazil_second) > (russia_first + russia_second):\n",
    "    print('Бразилия выиграла со счетом', brazil_first + brazil_second, ':', russia_first + russia_second)\n",
    "elif (russia_first + russia_second) > (brazil_first + brazil_second):\n",
    "    print ('Россия выиграла со счетом', russia_first + russia_second, ':', brazil_first + brazil_second)\n",
    "else:\n",
    "    print ('Ничья', russia_first + russia_second, ':', brazil_first + brazil_second)"
   ]
  },
  {
   "cell_type": "markdown",
   "metadata": {},
   "source": [
    "6.6.3. \n",
    "<br>\n",
    "\n",
    "Перезанимавшись программированием и проснувшись утром, вы почему-то не можете вспомнить, какой сегодня день недели, помните только его порядковый номер от 1 до 7. Надо срочно написать код расшифровки.\n",
    "<br>\n",
    "\n",
    "Напишите программу, которая вводит целое число, и составьте цепочку if else, которая выводит соответствующий числу день недели (название), если это число находится в диапазоне от 1 до 7, и \"unknown\", если число имеет другое значение."
   ]
  },
  {
   "cell_type": "code",
   "execution_count": 6,
   "metadata": {},
   "outputs": [
    {
     "name": "stdout",
     "output_type": "stream",
     "text": [
      "3\n",
      "Среда\n"
     ]
    }
   ],
   "source": [
    "day = int(input())\n",
    "if day == 1:\n",
    "    print('Понедельник')\n",
    "elif day == 2:\n",
    "    print('Вторник')\n",
    "elif day == 3:\n",
    "    print('Среда')\n",
    "elif day == 4:\n",
    "    print('Четверг')\n",
    "elif day == 5:\n",
    "    print('Пятница')\n",
    "elif day == 6:\n",
    "    print('Суббота')\n",
    "else:\n",
    "    print('Воскресенье')"
   ]
  },
  {
   "cell_type": "markdown",
   "metadata": {},
   "source": [
    "Рефлексия: <br>\n",
    "Задание 5.5.0. решено верно.<br>\n",
    "Задание 5.5.1. Захардкодила. Почему-то не думала, что он через принт сам дойдет до того, чтобы написать, True или False.<br>\n",
    "Задание 5.5.2. Аналогично 5.5.1. <br>\n",
    "Задание 5.5.3. В целом, верно, только я записала это в переменную, а принт вывела следующей строкой, потому что не подумала, что условие \"надо все делать одной строкой\" относится также к принту. А еще я использовала or, но результат был верным. Но несколько захардкодила, х и у явно там лишние. <br>\n",
    "Задание 5.5.4. Вроде бы результат у меня верный, как требовалось заданием, но код не такой изящный. Наверное, это неправильное решение, но не уверена. <br>\n",
    "Задание 5.5.5. Снова захардкодила, введя переменные для чисел, данных в задании, а также отдельную переменную для решения. Надо было в принте писать."
   ]
  }
 ],
 "metadata": {
  "kernelspec": {
   "display_name": "Python 3",
   "language": "python",
   "name": "python3"
  },
  "language_info": {
   "codemirror_mode": {
    "name": "ipython",
    "version": 3
   },
   "file_extension": ".py",
   "mimetype": "text/x-python",
   "name": "python",
   "nbconvert_exporter": "python",
   "pygments_lexer": "ipython3",
   "version": "3.8.3"
  }
 },
 "nbformat": 4,
 "nbformat_minor": 4
}
