{
 "cells": [
  {
   "cell_type": "markdown",
   "metadata": {},
   "source": [
    "4.5.4. <br>\n",
    "Российские учёные разрабатывают супермощный квантовый компьютер \"Росомаха\", в котором всего три регистра (три переменных, хранящих целые числа).\n",
    "Напишите программу, которая меняет местами значение двух переменных (всего можно использовать три переменные)."
   ]
  },
  {
   "cell_type": "code",
   "execution_count": 6,
   "metadata": {},
   "outputs": [
    {
     "name": "stdout",
     "output_type": "stream",
     "text": [
      "2 1\n"
     ]
    }
   ],
   "source": [
    "x = 1\n",
    "y = 2\n",
    "z = 3\n",
    "z = x # z = 1\n",
    "x = y # x = 2\n",
    "y = z # y = 1\n",
    "print(x, y)"
   ]
  },
  {
   "cell_type": "markdown",
   "metadata": {},
   "source": [
    "Существует также засекреченная версия \"Росомаха-10\", в которой всего два регистра. Сможете ли вы поменять местами значения двух целочисленных переменных, используя только эти две переменные и арифметические операции?"
   ]
  },
  {
   "cell_type": "code",
   "execution_count": 4,
   "metadata": {},
   "outputs": [
    {
     "name": "stdout",
     "output_type": "stream",
     "text": [
      "2 1\n"
     ]
    }
   ],
   "source": [
    "x = 1\n",
    "y = 2\n",
    "x, y = y, x # не знаю, как с помощью арифметических операций, но я уже знаю про двойное присваивание :)\n",
    "print(x, y)"
   ]
  },
  {
   "cell_type": "markdown",
   "metadata": {},
   "source": [
    "4.5.5. <br> В мессенджере Телеграм вводится новая схема шифрования. Каждое число в криптокоде дополнительно кодируется по такой схеме: берётся целое однозначное число n (цифра от 0 до 9) , и преобразовывается в сумму n + nn + nnn.\n",
    "Напишите программу, которая этот алгоритм реализует. Например, если введено число 5, надо вывести значение суммы 5 + 55 + 555. Используйте только арифметические операции."
   ]
  },
  {
   "cell_type": "code",
   "execution_count": 10,
   "metadata": {},
   "outputs": [
    {
     "name": "stdout",
     "output_type": "stream",
     "text": [
      "INPUT:2\n"
     ]
    }
   ],
   "source": [
    "n = int(input('INPUT:'))"
   ]
  },
  {
   "cell_type": "code",
   "execution_count": 11,
   "metadata": {},
   "outputs": [
    {
     "name": "stdout",
     "output_type": "stream",
     "text": [
      "246\n"
     ]
    }
   ],
   "source": [
    "x = n * 11\n",
    "y = n * 111\n",
    "print(n + x + y)"
   ]
  },
  {
   "cell_type": "markdown",
   "metadata": {},
   "source": [
    "Рефлексия: первая часть занятия 4 решена верно."
   ]
  }
 ],
 "metadata": {
  "kernelspec": {
   "display_name": "Python 3",
   "language": "python",
   "name": "python3"
  },
  "language_info": {
   "codemirror_mode": {
    "name": "ipython",
    "version": 3
   },
   "file_extension": ".py",
   "mimetype": "text/x-python",
   "name": "python",
   "nbconvert_exporter": "python",
   "pygments_lexer": "ipython3",
   "version": "3.8.3"
  }
 },
 "nbformat": 4,
 "nbformat_minor": 4
}
